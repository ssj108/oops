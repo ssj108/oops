{
  "nbformat": 4,
  "nbformat_minor": 0,
  "metadata": {
    "colab": {
      "provenance": []
    },
    "kernelspec": {
      "name": "python3",
      "display_name": "Python 3"
    },
    "language_info": {
      "name": "python"
    }
  },
  "cells": [
    {
      "cell_type": "markdown",
      "source": [
        "1. What is Object-Oriented Programming (OOP)?\n",
        "\n",
        "> Object-Oriented Programming (OOP) is a programming paradigm based on the concept of objects, which can contain data (attributes) and methods (functions). OOP focuses on designing software around real-world entities to improve modularity, reusability, and maintainability.\n",
        "Key concepts include encapsulation, inheritance, polymorphism, and abstraction.\n",
        "\n",
        "\n",
        "\n",
        "\n",
        "---\n",
        "\n",
        "2. What is a class in OOP?\n",
        "\n",
        "> A class is a blueprint or template for creating objects. It defines a set of attributes and methods that the created objects (instances) will have.\n",
        "Example:\n",
        "\n"
      ],
      "metadata": {
        "id": "zv8KwM4pgNfi"
      }
    },
    {
      "cell_type": "code",
      "source": [
        "class Car:\n",
        "    def _init_(self, brand):\n",
        "        self.brand = brand\n",
        "\n",
        "    def drive(self):\n",
        "        print(f\"{self.brand} is driving\")\n"
      ],
      "metadata": {
        "id": "Okq5r6RWgryo"
      },
      "execution_count": null,
      "outputs": []
    },
    {
      "cell_type": "markdown",
      "source": [
        "3. What is an object in OOP?\n",
        "\n",
        "> An object is an instance of a class. It represents a specific implementation of the class with actual values assigned to its attributes.\n",
        "Example:\n",
        "\n"
      ],
      "metadata": {
        "id": "ISjkUMnfg9WO"
      }
    },
    {
      "cell_type": "code",
      "source": [
        "my_car = Car(\"Toyota\")\n",
        "my_car.drive()\n"
      ],
      "metadata": {
        "id": "lmEB3eKuhUoK"
      },
      "execution_count": null,
      "outputs": []
    },
    {
      "cell_type": "markdown",
      "source": [
        "4. What is the difference between abstraction and encapsulation?\n",
        "\n",
        "> Abstraction hides complex implementation details and shows only the essential features.\n",
        "\n",
        "Encapsulation binds data and methods together into a single unit (class) and restricts direct access to some components (using private/protected members).\n",
        "\n",
        "\n",
        "\n",
        "\n",
        "\n",
        "---\n",
        "\n",
        "5. What are dunder methods in Python?\n",
        "\n",
        "> Dunder (Double UNDERSCORE) methods are special methods that start and end with double underscores, like _init, __str, and __repr_. They allow you to customize the behavior of objects for built-in operations.\n",
        "\n",
        "\n",
        "\n",
        "\n",
        "---\n",
        "\n",
        "6. Explain the concept of inheritance in OOP.\n",
        "\n",
        "> Inheritance allows a new class (child class) to acquire properties and methods of an existing class (parent class), promoting code reusability.\n",
        "example"
      ],
      "metadata": {
        "id": "IS7hdx0RhZw4"
      }
    },
    {
      "cell_type": "code",
      "source": [
        "class Animal:\n",
        "    def speak(self):\n",
        "        print(\"Animal speaks\")\n",
        "\n",
        "class Dog(Animal):\n",
        "    def bark(self):\n",
        "        print(\"Dog barks\")\n",
        "\n"
      ],
      "metadata": {
        "id": "G6tYNZZOhyoS"
      },
      "execution_count": null,
      "outputs": []
    },
    {
      "cell_type": "markdown",
      "source": [
        "7. What is polymorphism in OOP?\n",
        "\n",
        "> Polymorphism allows methods to behave differently based on the object that is calling them.\n",
        "Example: A method named fly() can work differently for Sparrow and Penguin.\n",
        "\n",
        "\n",
        "\n",
        "\n",
        "---\n",
        "\n",
        "8. How is encapsulation achieved in Python?\n",
        "\n",
        "> Encapsulation is achieved by defining private attributes/methods using an underscore _ or double underscore __ and providing getter/setter methods.\n",
        "\n",
        "\n",
        "\n",
        "Example:\n"
      ],
      "metadata": {
        "id": "gMmvwdGDh0SE"
      }
    },
    {
      "cell_type": "code",
      "source": [
        "class Bank:\n",
        "    def _init_(self, balance):\n",
        "        self.__balance = balance  # private attribute\n",
        "\n",
        "    def deposit(self, amount):\n",
        "        self.__balance += amount\n",
        "\n",
        "    def get_balance(self):\n",
        "        return self.__balance\n"
      ],
      "metadata": {
        "id": "SR7hoAiBh_Qp"
      },
      "execution_count": null,
      "outputs": []
    },
    {
      "cell_type": "markdown",
      "source": [
        "9. What is a constructor in Python?\n",
        "\n",
        "> A constructor (_init_ method) is a special method used to initialize the attributes of a class when an object is created.\n",
        "\n",
        "\n",
        "\n",
        "\n",
        "---\n",
        "\n",
        "10. What are class and static methods in Python?\n",
        "\n",
        "> Class Method: Takes cls as a parameter and can modify class state. Defined using @classmethod.\n",
        "\n",
        "Static Method: Doesn’t take self or cls. Behaves like a regular function inside a class. Defined using @staticmethod.\n",
        "\n",
        "\n",
        "\n",
        "\n",
        "\n",
        "---\n",
        "\n",
        "11. What is method overloading in Python?\n",
        "\n",
        "> Python does not support traditional method overloading. Instead, you can achieve it by providing default arguments or using variable arguments (*args and **kwargs).\n",
        "\n",
        "\n",
        "\n",
        "\n",
        "12. What is method overriding in OOP?\n",
        "\n",
        "> Method overriding occurs when a child class provides a specific implementation of a method already defined in the parent class.\n",
        "\n",
        "\n",
        "\n",
        "\n",
        "---\n",
        "\n",
        "13. What is a property decorator in Python?\n",
        "\n",
        "> A property decorator (@property) is used to define getter methods that can be accessed like attributes.\n",
        "example"
      ],
      "metadata": {
        "id": "lmpzo-cZiGiV"
      }
    },
    {
      "cell_type": "code",
      "source": [
        "class Circle:\n",
        "    def _init_(self, radius):\n",
        "        self._radius = radius\n",
        "\n",
        "    @property\n",
        "    def area(self):\n",
        "        return 3.14 * self._radius * self._radius\n"
      ],
      "metadata": {
        "id": "vlmB5NHPiqt5"
      },
      "execution_count": null,
      "outputs": []
    },
    {
      "cell_type": "markdown",
      "source": [
        "14. Why is polymorphism important in OOP?\n",
        "\n",
        "> Polymorphism enhances flexibility and scalability by allowing objects of different types to be treated uniformly based on shared methods.\n",
        "\n",
        "\n",
        "\n",
        "\n",
        "---\n",
        "\n",
        "15. What is an abstract class in Python?\n",
        "\n",
        "> An abstract class contains one or more abstract methods (methods declared but not implemented). It is created using the abc module.\n",
        "\n",
        "\n",
        "\n",
        "Example:\n",
        "\n",
        "from abc import ABC, abstractmethod\n",
        "\n",
        "class Shape(ABC):\n",
        "    @abstractmethod\n",
        "    def area(self):\n",
        "        pass\n",
        "\n",
        "\n",
        "---\n",
        "\n",
        "16. What are the advantages of OOP?\n",
        "> Code Reusability\n",
        "\n",
        "Modularity\n",
        "\n",
        "Data Hiding\n",
        "\n",
        "Easy Troubleshooting and Maintenance\n",
        "\n",
        "Scalability\n",
        "\n",
        "\n",
        "\n",
        "\n",
        "\n",
        "---\n",
        "\n",
        "17. What is the difference between a class variable and an instance variable?\n",
        "\n",
        "> Class Variable: Shared across all instances.\n",
        "\n",
        "Instance Variable: Unique for each object (instance).\n",
        "\n",
        "\n",
        "\n",
        "\n",
        "\n",
        "---\n",
        "\n",
        "18. What is multiple inheritance in Python?\n",
        "\n",
        "> When a class inherits from more than one parent class, it is called multiple inheritance.\n",
        "Example:\n",
        "\n",
        "class A:\n",
        "    pass\n",
        "class B:\n",
        "    pass\n",
        "class C(A, B):\n",
        "    pass\n",
        "\n",
        "\n",
        "---\n",
        "\n",
        "19. Explain the purpose of _str_ and _repr_ methods in Python.\n",
        "\n",
        "> _str_ provides a readable, user-friendly string representation of an object.\n",
        "\n",
        "_repr_ provides a developer-friendly, detailed string representation of an object (good for debugging).\n",
        "\n",
        "\n",
        "\n",
        "\n",
        "\n",
        "---\n",
        "\n",
        "20. What is the significance of the super() function in Python?\n",
        "\n",
        "> super() allows you to call methods from a parent class, avoiding the need to specify the parent class name explicitly.\n",
        "\n",
        "\n",
        "\n",
        "21. What is the significance of the _del_ method in Python?\n",
        "\n",
        "> _del_ is a destructor method that gets called automatically when an object is about to be destroyed (deleted).\n",
        "\n",
        "\n",
        "\n",
        "\n",
        "---\n",
        "\n",
        "22. What is the difference between @staticmethod and @classmethod in Python?\n",
        "\n",
        "> @staticmethod: Doesn’t take self or cls. Works independently.\n",
        "\n",
        "@classmethod: Takes cls and can modify class-level attributes.\n",
        "\n",
        "\n",
        "\n",
        "\n",
        "\n",
        "---\n",
        "\n",
        "23. How does polymorphism work in Python with inheritance?\n",
        "\n",
        "> When a child class overrides a method from the parent class, polymorphism allows calling the correct version based on the object's class during runtime.\n",
        "\n",
        "\n",
        "24. What is method chaining in Python OOP?\n",
        "\n",
        "> Method chaining allows you to call multiple methods on the same object in a single line by returning self at the end of each method.\n",
        "\n",
        "\n",
        "\n",
        "Example:\n"
      ],
      "metadata": {
        "id": "DLEbYoWKisfr"
      }
    },
    {
      "cell_type": "code",
      "source": [
        "class Person:\n",
        "    def set_name(self, name):\n",
        "        self.name = name\n",
        "        return self\n",
        "\n",
        "    def set_age(self, age):\n",
        "        self.age = age\n",
        "        return self\n",
        "\n",
        "p = Person().set_name(\"John\").set_age(30)\n",
        "\n"
      ],
      "metadata": {
        "id": "BEgKdOEFjid1"
      },
      "execution_count": null,
      "outputs": []
    },
    {
      "cell_type": "markdown",
      "source": [
        "25. What is the purpose of the _call_ method in Python?\n",
        "\n",
        "> _call_ makes an object callable like a regular function.\n",
        "\n",
        "\n",
        "\n",
        "Example:\n"
      ],
      "metadata": {
        "id": "o4hPmbLkjrkq"
      }
    },
    {
      "cell_type": "code",
      "source": [
        "class Adder:\n",
        "    def _call_(self, a, b):\n",
        "        return a + b\n",
        "\n",
        "add = Adder()\n",
        "print(add(5, 6))  # Output: 11"
      ],
      "metadata": {
        "id": "jwvD6Hm9jzTu"
      },
      "execution_count": null,
      "outputs": []
    },
    {
      "cell_type": "markdown",
      "source": [
        "1. Create a parent class Animal with a method speak() that prints a generic message. Create a child class Dog that overrides the speak() method to print \"Bark!\".\n"
      ],
      "metadata": {
        "id": "RGsrq1L-j8vj"
      }
    },
    {
      "cell_type": "code",
      "source": [
        "class Animal {\n",
        "    void speak() {\n",
        "        System.out.println(\"Animal speaks\");\n",
        "    }\n",
        "}\n",
        "\n",
        "class Dog extends Animal {\n",
        "    @Override\n",
        "    void speak() {\n",
        "        System.out.println(\"Bark!\");\n",
        "    }\n",
        "}\n",
        "\n",
        "public class Main {\n",
        "    public static void main(String[] args) {\n",
        "        Dog dog = new Dog();\n",
        "        dog.speak();\n",
        "    }\n",
        "}\n",
        "\n"
      ],
      "metadata": {
        "id": "7vpjysEzkNP9"
      },
      "execution_count": null,
      "outputs": []
    },
    {
      "cell_type": "markdown",
      "source": [
        "2. Write a program to create an abstract class Shape with a method area(). Derive classes Circle and Rectangle from it and implement the area() method in both.\n",
        "\n"
      ],
      "metadata": {
        "id": "aGLkNNbzkdb8"
      }
    },
    {
      "cell_type": "code",
      "source": [
        "abstract class Shape {\n",
        "    abstract void area();\n",
        "}\n",
        "\n",
        "class Circle extends Shape {\n",
        "    double radius;\n",
        "\n",
        "    Circle(double radius) {\n",
        "        this.radius = radius;\n",
        "    }\n",
        "\n",
        "    void area() {\n",
        "        System.out.println(\"Area of Circle: \" + (3.14 * radius * radius));\n",
        "    }\n",
        "}\n",
        "\n",
        "class Rectangle extends Shape {\n",
        "    double length, breadth;\n",
        "\n",
        "    Rectangle(double length, double breadth) {\n",
        "        this.length = length;\n",
        "        this.breadth = breadth;\n",
        "    }\n",
        "\n",
        "    void area() {\n",
        "        System.out.println(\"Area of Rectangle: \" + (length * breadth));\n",
        "    }\n",
        "}\n",
        "\n",
        "public class Main {\n",
        "    public static void main(String[] args) {\n",
        "        Shape circle = new Circle(5);\n",
        "Shape rectangle = new Rectangle(4, 6);\n",
        "        circle.area();\n",
        "        rectangle.area();\n",
        "    }\n",
        "}\n",
        "\n"
      ],
      "metadata": {
        "id": "doqzIi3okle_"
      },
      "execution_count": null,
      "outputs": []
    },
    {
      "cell_type": "markdown",
      "source": [
        "3. Implement a multi-level inheritance scenario where a class Vehicle has an attribute type. Derive a class Car and further derive a class ElectricCar that adds a battery attribute.\n",
        "\n"
      ],
      "metadata": {
        "id": "z6Dku3-GlI1q"
      }
    },
    {
      "cell_type": "code",
      "source": [
        "class Vehicle {\n",
        "    String type = \"Vehicle\";\n",
        "}\n",
        "\n",
        "class Car extends Vehicle {\n",
        "    String brand = \"Generic Car\";\n",
        "}\n",
        "\n",
        "class ElectricCar extends Car {\n",
        "    int batteryCapacity = 100; // in kWh\n",
        "}\n",
        "\n",
        "public class Main {\n",
        "    public static void main(String[] args) {\n",
        "        ElectricCar eCar = new ElectricCar();\n",
        "        System.out.println(eCar.type + \", \" + eCar.brand + \", Battery: \" + eCar.batteryCapacity + \"kWh\");\n",
        "    }\n",
        "}\n",
        "\n"
      ],
      "metadata": {
        "id": "8d6AhvUMlR9G"
      },
      "execution_count": null,
      "outputs": []
    },
    {
      "cell_type": "markdown",
      "source": [
        "4. Demonstrate polymorphism by creating a base class Bird with a method fly(). Create two derived classes Sparrow and Penguin that override the fly() method.\n"
      ],
      "metadata": {
        "id": "vv89EPRTlaBE"
      }
    },
    {
      "cell_type": "code",
      "source": [
        "class Bird {\n",
        "    void fly() {\n",
        "        System.out.println(\"Bird flies\");\n",
        "    }\n",
        "}\n",
        "\n",
        "class Sparrow extends Bird {\n",
        "    @Override\n",
        "    void fly() {\n",
        "        System.out.println(\"Sparrow flies high\");\n",
        "    }\n",
        "}\n",
        "\n",
        "class Penguin extends Bird {\n",
        "    @Override\n",
        "    void fly() {\n",
        "        System.out.println(\"Penguin cannot fly\");\n",
        "    }\n",
        "}\n",
        "\n",
        "public class Main {\n",
        "    public static void main(String[] args) {\n",
        "        Bird myBird1 = new Sparrow();\n",
        "        Bird myBird2 = new Penguin();\n",
        "        myBird1.fly();\n",
        "        myBird2.fly();\n",
        "    }\n",
        "}\n"
      ],
      "metadata": {
        "id": "24qwRRsYlfmO"
      },
      "execution_count": null,
      "outputs": []
    },
    {
      "cell_type": "markdown",
      "source": [
        "5. Write a program to demonstrate encapsulation by creating a class BankAccount with private attributes balance and methods to deposit, withdraw, and check balance.\n"
      ],
      "metadata": {
        "id": "FdiKLyL3lntS"
      }
    },
    {
      "cell_type": "code",
      "source": [
        "class BankAccount {\n",
        "    private double balance;\n",
        "\n",
        "    BankAccount(double initialBalance) {\n",
        "        balance = initialBalance;\n",
        "    }\n",
        "\n",
        "    public void deposit(double amount) {\n",
        "        balance += amount;\n",
        "    }\n",
        "\n",
        "    public void withdraw(double amount) {\n",
        "        if(balance >= amount) {\n",
        "            balance -= amount;\n",
        "        } else {\n",
        "            System.out.println(\"Insufficient balance!\");\n",
        "        }\n",
        "    }\n",
        "\n",
        "    public double getBalance() {\n",
        "        return balance;\n",
        "    }\n",
        "}\n",
        "\n",
        "public class Main {\n",
        "    public static void main(String[] args) {\n",
        "        BankAccount acc = new BankAccount(500);\n",
        "        acc.deposit(200);\n",
        "        acc.withdraw(100);\n",
        "        System.out.println(\"Balance: \" + acc.getBalance());\n",
        "    }\n"
      ],
      "metadata": {
        "id": "5RAWNKgulyMI"
      },
      "execution_count": null,
      "outputs": []
    },
    {
      "cell_type": "markdown",
      "source": [
        "6. Demonstrate runtime polymorphism using a method play() in a base class Instrument. Derive classes Guitar and Piano that implement their own version of play().\n",
        "\n"
      ],
      "metadata": {
        "id": "P0jzUCVSmFZr"
      }
    },
    {
      "cell_type": "code",
      "source": [
        "class Instrument {\n",
        "    void play() {\n",
        "        System.out.println(\"Playing Instrument\");\n",
        "    }\n",
        "}\n",
        "\n",
        "class Guitar extends Instrument {\n",
        "    @Override\n",
        "    void play() {\n",
        "        System.out.println(\"Playing Guitar\");\n",
        "    }\n",
        "}\n",
        "\n",
        "class Piano extends Instrument {\n",
        "    @Override\n",
        "    void play() {\n",
        "        System.out.println(\"Playing Piano\");\n",
        "    }\n",
        "}\n",
        "\n",
        "public class Main {\n",
        "    public static void main(String[] args) {\n",
        "        Instrument i1 = new Guitar();\n",
        "        Instrument i2 = new Piano();\n",
        "        i1.play();\n",
        "        i2.play();\n",
        "    }\n",
        "}\n"
      ],
      "metadata": {
        "id": "lkgi-WZfmYC6"
      },
      "execution_count": null,
      "outputs": []
    },
    {
      "cell_type": "markdown",
      "source": [
        "7. Create a class MathOperations with a class method add_numbers() to add two numbers and a static method subtract_numbers() to subtract two numbers.\n"
      ],
      "metadata": {
        "id": "pC0CkB9zmaWu"
      }
    },
    {
      "cell_type": "code",
      "source": [
        "class MathOperations {\n",
        "    static int add_numbers(int a, int b) {\n",
        "        return a + b;\n",
        "    }\n",
        "\n",
        "    static int subtract_numbers(int a, int b) {\n",
        "        return a - b;\n",
        "    }\n",
        "}\n",
        "\n",
        "public class Main {\n",
        "    public static void main(String[] args) {\n",
        "        System.out.println(MathOperations.add_numbers(5, 3));\n",
        "        System.out.println(MathOperations.subtract_numbers(5, 3));\n",
        "    }\n"
      ],
      "metadata": {
        "id": "8Rhx5z8NmhZo"
      },
      "execution_count": null,
      "outputs": []
    },
    {
      "cell_type": "markdown",
      "source": [
        "8. Implement a class Person with a class method to count the total number of persons created"
      ],
      "metadata": {
        "id": "16ZGZ1zgmp9-"
      }
    },
    {
      "cell_type": "code",
      "source": [
        "class Person {\n",
        "    static int count = 0;\n",
        "\n",
        "    Person() {\n",
        "        count++;\n",
        "    }\n",
        "\n",
        "    static int getCount() {\n",
        "        return count;\n",
        "    }\n",
        "}\n",
        "\n",
        "public class Main {\n",
        "    public static void main(String[] args) {\n",
        "        Person p1 = new Person();\n",
        "        Person p2 = new Person();\n",
        "        System.out.println(\"Total persons: \" + Person.getCount());\n",
        "    }\n"
      ],
      "metadata": {
        "id": "4X3ZHs8GmzNy"
      },
      "execution_count": null,
      "outputs": []
    },
    {
      "cell_type": "markdown",
      "source": [
        "9. Write a class Fraction with attributes numerator and denominator. Override the str method to display the fraction as \"numerator/denominator\".\n"
      ],
      "metadata": {
        "id": "MfWYbIBpm7Lt"
      }
    },
    {
      "cell_type": "code",
      "source": [
        "(Java does not have _str_ like Python, but we use toString().)\n",
        "\n",
        "class Fraction {\n",
        "    int numerator, denominator;\n",
        "\n",
        "    Fraction(int numerator, int denominator) {\n",
        "        this.numerator = numerator;\n",
        "        this.denominator = denominator;\n",
        "    }\n",
        "\n",
        "    @Override\n",
        "    public String toString() {\n",
        "        return numerator + \"/\" + denominator;\n",
        "    }\n",
        "}\n",
        "\n",
        "public class Main {\n",
        "    public static void main(String[] args) {\n",
        "        Fraction frac = new Fraction(2, 5);\n",
        "        System.out.println(frac);\n",
        "    }\n",
        "}\n"
      ],
      "metadata": {
        "id": "t23bnBRsnD_9"
      },
      "execution_count": null,
      "outputs": []
    },
    {
      "cell_type": "markdown",
      "source": [
        "10. Demonstrate operator overloading by creating a class Vector and overriding the add method to add two vectors.\n"
      ],
      "metadata": {
        "id": "qPWlv5gAnVwK"
      }
    },
    {
      "cell_type": "code",
      "source": [
        "(Java does not support real operator overloading. We simulate it using methods.)\n",
        "\n",
        "class Vector {\n",
        "    int x, y;\n",
        "\n",
        "    Vector(int x, int y) {\n",
        "        this.x = x;\n",
        "        this.y = y;\n",
        "    }\n",
        "\n",
        "    Vector add(Vector v) {\n",
        "        return new Vector(this.x + v.x, this.y + v.y);\n",
        "    }\n",
        "\n",
        "    @Override\n",
        "    public String toString() {\n",
        "        return \"(\" + x + \",\" + y + \")\";\n",
        "    }\n",
        "}\n",
        "\n",
        "public class Main {\n",
        "    public static void main(String[] args) {\n",
        "        Vector v1 = new Vector(2, 3);\n",
        "        Vector v2 = new Vector(4, 5);\n",
        "        Vector result = v1.add(v2);\n",
        "        System.out.println(result);\n",
        "    }\n"
      ],
      "metadata": {
        "id": "iD0sLC6pnXH1"
      },
      "execution_count": null,
      "outputs": []
    },
    {
      "cell_type": "markdown",
      "source": [
        "11. Create a class Person with attributes name and age. Add a method greet() that prints \"Hello, my name is {name} and I am {age} years old.\"\n"
      ],
      "metadata": {
        "id": "obV1CmjJnjB7"
      }
    },
    {
      "cell_type": "code",
      "source": [
        "class Person {\n",
        "    String name;\n",
        "    int age;\n",
        "\n",
        "    Person(String name, int age) {\n",
        "        this.name = name;\n",
        "        this.age = age;\n",
        "    }\n",
        "\n",
        "    void greet() {\n",
        "        System.out.println(\"Hello, my name is \" + name + \" and I am \" + age + \" years old.\");\n",
        "    }\n",
        "}\n",
        "\n",
        "public class Main {\n",
        "    public static void main(String[] args) {\n",
        "        Person p = new Person(\"Alice\", 25);\n",
        "        p.greet();\n",
        "    }\n",
        "}\n",
        "\n"
      ],
      "metadata": {
        "id": "hHx8ZmUBno3N"
      },
      "execution_count": null,
      "outputs": []
    },
    {
      "cell_type": "markdown",
      "source": [
        "12. Implement a class Student with attributes name and grades. Create a method average_grade() to compute the average of the grades.\n"
      ],
      "metadata": {
        "id": "Z_dXVH1CnvuZ"
      }
    },
    {
      "cell_type": "code",
      "source": [
        "class Student {\n",
        "    String name;\n",
        "    int[] grades;\n",
        "\n",
        "    Student(String name, int[] grades) {\n",
        "        this.name = name;\n",
        "        this.grades = grades;\n",
        "    }\n",
        "\n",
        "    double average_grade() {\n",
        "        int sum = 0;\n",
        "        for(int grade : grades) {\n",
        "            sum += grade;\n",
        "        }\n",
        "        return (double) sum / grades.length;\n",
        "    }\n",
        "}\n",
        "\n",
        "public class Main {\n",
        "    public static void main(String[] args) {\n",
        "        int[] grades = {80, 90, 85};\n",
        "        Student s = new Student(\"John\", grades);\n",
        "        System.out.println(\"Average grade: \" + s.average_grade());\n",
        "    }\n",
        "}\n"
      ],
      "metadata": {
        "id": "TBI69VcNn3Z0"
      },
      "execution_count": null,
      "outputs": []
    },
    {
      "cell_type": "markdown",
      "source": [
        "13. Create a class Rectangle with methods set_dimensions() to set the dimensions and area() to calculate the area.\n",
        "\n"
      ],
      "metadata": {
        "id": "boKHrSUNn_oI"
      }
    },
    {
      "cell_type": "code",
      "source": [
        "class Rectangle {\n",
        "    int length, breadth;\n",
        "\n",
        "    void set_dimensions(int length, int breadth) {\n",
        "        this.length = length;\n",
        "        this.breadth = breadth;\n",
        "    }\n",
        "\n",
        "    int area() {\n",
        "        return length * breadth;\n",
        "    }\n",
        "}\n",
        "\n",
        "public class Main {\n",
        "    public static void main(String[] args) {\n",
        "        Rectangle r = new Rectangle();\n",
        "        r.set_dimensions(5, 6);\n",
        "        System.out.println(\"Area: \" + r.area());\n",
        "    }\n",
        "}\n",
        "\n"
      ],
      "metadata": {
        "id": "mGWiKOnIoFWv"
      },
      "execution_count": null,
      "outputs": []
    },
    {
      "cell_type": "markdown",
      "source": [
        "14. Create a class Employee with a method calculate_salary() that computes the salary based on hours worked and hourly rate. Create a derived class Manager that adds a bonus to the salary.\n"
      ],
      "metadata": {
        "id": "sAlCRmIAoNGs"
      }
    },
    {
      "cell_type": "code",
      "source": [
        "class Employee {\n",
        "    double calculate_salary(int hours, double rate) {\n",
        "        return hours * rate;\n",
        "    }\n",
        "}\n",
        "\n",
        "class Manager extends Employee {\n",
        "    double calculate_salary(int hours, double rate, double bonus) {\n",
        "        return (hours * rate) + bonus;\n",
        "    }\n",
        "}\n",
        "\n",
        "public class Main {\n",
        "    public static void main(String[] args) {\n",
        "        Manager m = new Manager();\n",
        "        System.out.println(\"Manager Salary: \" + m.calculate_salary(40, 50, 500));\n",
        "    }\n",
        "}\n"
      ],
      "metadata": {
        "id": "tMbeHw3aoUJn"
      },
      "execution_count": null,
      "outputs": []
    },
    {
      "cell_type": "markdown",
      "source": [
        "15. Create a class Product with attributes name, price, and quantity. Implement a method total_price() that calculates the total price of the product.\n"
      ],
      "metadata": {
        "id": "GbNoySKqocA5"
      }
    },
    {
      "cell_type": "code",
      "source": [
        "class Product {\n",
        "    String name;\n",
        "    double price;\n",
        "    int quantity;\n",
        "\n",
        "    Product(String name, double price, int quantity) {\n",
        "        this.name = name;\n",
        "        this.price = price;\n",
        "        this.quantity = quantity;\n",
        "    }\n",
        "\n",
        "    double total_price() {\n",
        "        return price * quantity;\n",
        "    }\n",
        "}\n",
        "\n",
        "public class Main {\n",
        "    public static void main(String[] args) {\n",
        "        Product p = new Product(\"Laptop\", 50000, 2);\n",
        "        System.out.println(\"Total Price: \" + p.total_price());\n",
        "    }\n",
        "}\n"
      ],
      "metadata": {
        "id": "7W70oXVUokYd"
      },
      "execution_count": null,
      "outputs": []
    },
    {
      "cell_type": "markdown",
      "source": [
        "16. Create a class Animal with an abstract method sound(). Create two derived classes Cow and Sheep that implement the sound() method.\n",
        "\n"
      ],
      "metadata": {
        "id": "frwNjM-Lo3s_"
      }
    },
    {
      "cell_type": "code",
      "source": [
        "abstract class Animal {\n",
        "    abstract void sound();\n",
        "}\n",
        "\n",
        "class Cow extends Animal {\n",
        "    void sound() {\n",
        "        System.out.println(\"Moo\");\n",
        "    }\n",
        "}\n",
        "\n",
        "class Sheep extends Animal {\n",
        "    void sound() {\n",
        "        System.out.println(\"Baa\");\n",
        "    }\n",
        "}\n",
        "\n",
        "public class Main {\n",
        "    public static void main(String[] args) {\n",
        "        Animal cow = new Cow();\n",
        "        Animal sheep = new Sheep();\n",
        "        cow.sound();\n",
        "        sheep.sound();\n",
        "    }\n",
        "}\n",
        "\n",
        "\n"
      ],
      "metadata": {
        "id": "L6Tork1-o-UF"
      },
      "execution_count": null,
      "outputs": []
    },
    {
      "cell_type": "markdown",
      "source": [
        "17. Create a class Book with attributes title, author, and year_published. Add a method get_book_info() that returns a formatted string with the book's details.\n"
      ],
      "metadata": {
        "id": "otPnJtvBpGWQ"
      }
    },
    {
      "cell_type": "code",
      "source": [
        "class Book {\n",
        "    String title, author;\n",
        "    int year_published;\n",
        "\n",
        "    Book(String title, String author, int year_published) {\n",
        "        this.title = title;\n",
        "        this.author = author;\n",
        "        this.year_published = year_published;\n",
        "    }\n",
        "\n",
        "    String get_book_info() {\n",
        "        return title + \" by \" + author + \", published in \" + year_published;\n",
        "    }\n",
        "}\n",
        "\n",
        "public class Main {\n",
        "    public static void main(String[] args) {\n",
        "        Book book = new Book(\"1984\", \"George Orwell\", 1949);\n",
        "        System.out.println(book.get_book_info());\n",
        "    }\n",
        "}\n",
        "\n"
      ],
      "metadata": {
        "id": "xlbgp3E8pL_h"
      },
      "execution_count": null,
      "outputs": []
    },
    {
      "cell_type": "markdown",
      "source": [
        "18. Create a class House with attributes address and price. Create a derived class Mansion that adds an attribute number_of_rooms.\n"
      ],
      "metadata": {
        "id": "5zSfI-P3pfX0"
      }
    },
    {
      "cell_type": "code",
      "source": [
        "class House {\n",
        "    String address;\n",
        "    double price;\n",
        "\n",
        "    House(String address, double price) {\n",
        "        this.address = address;\n",
        "        this.price = price;\n",
        "    }\n",
        "}\n",
        "\n",
        "class Mansion extends House {\n",
        "    int number_of_rooms;\n",
        "\n",
        "    Mansion(String address, double price, int number_of_rooms) {\n",
        "        super(address, price);\n",
        "        this.number_of_rooms = number_of_rooms;\n",
        "    }\n",
        "}\n",
        "\n",
        "public class Main {\n",
        "    public static void main(String[] args) {\n",
        "        Mansion mansion = new Mansion(\"123 Luxury Lane\", 1000000, 10);\n",
        "        System.out.println(mansion.address + \", Price: $\" + mansion.price + \", Rooms: \" + mansion.number_of_rooms);\n",
        "    }\n",
        "}"
      ],
      "metadata": {
        "id": "8fjggNJ4pinl"
      },
      "execution_count": null,
      "outputs": []
    }
  ]
}